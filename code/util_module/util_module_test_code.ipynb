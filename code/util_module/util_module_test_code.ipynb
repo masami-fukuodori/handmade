{
 "cells": [
  {
   "cell_type": "markdown",
   "metadata": {},
   "source": [
    "  インポート"
   ]
  },
  {
   "cell_type": "code",
   "execution_count": 1,
   "metadata": {},
   "outputs": [],
   "source": [
    "from util_module import zen_to_han, han_to_zen"
   ]
  },
  {
   "cell_type": "markdown",
   "metadata": {},
   "source": [
    "  全角・半角が混ざった、文字列を用意"
   ]
  },
  {
   "cell_type": "code",
   "execution_count": 2,
   "metadata": {},
   "outputs": [],
   "source": [
    "s = \"お電話は０１２０ー1111-２２２２へ\""
   ]
  },
  {
   "cell_type": "markdown",
   "metadata": {},
   "source": [
    "  全角から半角へ"
   ]
  },
  {
   "cell_type": "code",
   "execution_count": 4,
   "metadata": {},
   "outputs": [
    {
     "name": "stdout",
     "output_type": "stream",
     "text": [
      "お電話は0120ー1111-2222へ\n"
     ]
    }
   ],
   "source": [
    "print(zen_to_han(s))"
   ]
  },
  {
   "cell_type": "markdown",
   "metadata": {},
   "source": [
    "  半角から全角へ"
   ]
  },
  {
   "cell_type": "code",
   "execution_count": 5,
   "metadata": {},
   "outputs": [
    {
     "name": "stdout",
     "output_type": "stream",
     "text": [
      "お電話は０１２０ー１１１１－２２２２へ\n"
     ]
    }
   ],
   "source": [
    "print(han_to_zen(s))"
   ]
  },
  {
   "cell_type": "code",
   "execution_count": null,
   "metadata": {},
   "outputs": [],
   "source": []
  }
 ],
 "metadata": {
  "kernelspec": {
   "display_name": "Python 3.10.7 64-bit",
   "language": "python",
   "name": "python3"
  },
  "language_info": {
   "codemirror_mode": {
    "name": "ipython",
    "version": 3
   },
   "file_extension": ".py",
   "mimetype": "text/x-python",
   "name": "python",
   "nbconvert_exporter": "python",
   "pygments_lexer": "ipython3",
   "version": "3.10.7"
  },
  "orig_nbformat": 4,
  "vscode": {
   "interpreter": {
    "hash": "2f563510ee3288120195ee1a12ebae410869420774b9c1b0e9fd0e11dcbd2d78"
   }
  }
 },
 "nbformat": 4,
 "nbformat_minor": 2
}

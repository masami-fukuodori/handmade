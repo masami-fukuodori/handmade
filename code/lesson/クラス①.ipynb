{
 "cells": [
  {
   "cell_type": "markdown",
   "metadata": {},
   "source": [
    "# クラスについて"
   ]
  },
  {
   "cell_type": "markdown",
   "metadata": {},
   "source": [
    "## クラス定義～インスタンス化"
   ]
  },
  {
   "cell_type": "markdown",
   "metadata": {},
   "source": [
    "クラスはよく**「ひな形」**と言われます。\n",
    "それは、再利用可能なデータ処理というところから来ています。\n"
   ]
  },
  {
   "cell_type": "markdown",
   "metadata": {},
   "source": [
    "ですが、私はピンとこないので、**「色々なことをひとまとめにできるもの」**と考えています。"
   ]
  },
  {
   "cell_type": "markdown",
   "metadata": {},
   "source": [
    "## クラス定義"
   ]
  },
  {
   "cell_type": "markdown",
   "metadata": {},
   "source": [
    "慣習で、クラス名の頭文字は、大文字にします。単語が二つ続くようなクラス名は、それぞれ単語の頭を大文字にします。"
   ]
  },
  {
   "cell_type": "code",
   "execution_count": 11,
   "metadata": {},
   "outputs": [],
   "source": [
    "class SampleClass:\n",
    "    pass"
   ]
  },
  {
   "cell_type": "markdown",
   "metadata": {},
   "source": [
    "これでクラス定義ができました。passは無視してください。意味のない処理です。"
   ]
  },
  {
   "cell_type": "markdown",
   "metadata": {},
   "source": [
    "## コンストラクタ"
   ]
  },
  {
   "cell_type": "markdown",
   "metadata": {},
   "source": [
    "コンストラクタとかよくわからないので、気にしなくて良いです。後々、わかれば大丈夫です。"
   ]
  },
  {
   "cell_type": "markdown",
   "metadata": {},
   "source": [
    "コンストラクタ＝初期化だと思えば、大丈夫です。(正式な共通認識ではないと思いますが…)"
   ]
  },
  {
   "cell_type": "markdown",
   "metadata": {},
   "source": [
    "__init__(self)のselfは、本当はどんな文字でもよいのですが、selfで覚えてください。最初は、selfを絶対につけると覚えておけばいいです。"
   ]
  },
  {
   "cell_type": "code",
   "execution_count": 12,
   "metadata": {},
   "outputs": [],
   "source": [
    "class SampleClass:\n",
    "    def __init__(self):\n",
    "        self.number = 0\n",
    "        self.name = 'taro'"
   ]
  },
  {
   "cell_type": "markdown",
   "metadata": {},
   "source": [
    "## インスタンス化"
   ]
  },
  {
   "cell_type": "markdown",
   "metadata": {},
   "source": [
    "クラスはクラスのままでは、使えません。"
   ]
  },
  {
   "cell_type": "markdown",
   "metadata": {},
   "source": [
    "そこでやることは、**「インスタンス化」**です。"
   ]
  },
  {
   "cell_type": "code",
   "execution_count": 14,
   "metadata": {},
   "outputs": [],
   "source": [
    "sample1 = SampleClass()"
   ]
  },
  {
   "cell_type": "markdown",
   "metadata": {},
   "source": [
    "このインスタンス化は、よく使っているもので、wb_master=openpyxl.load_workbook('～')はインスタンス化です。"
   ]
  },
  {
   "cell_type": "markdown",
   "metadata": {},
   "source": [
    "要は、クラスを使えるようにする方法と憶えておけば、大丈夫です。"
   ]
  },
  {
   "cell_type": "markdown",
   "metadata": {},
   "source": [
    "## インスタンス化したものに何が入っているの？"
   ]
  },
  {
   "cell_type": "markdown",
   "metadata": {},
   "source": [
    "では、中身はなんでしょうか？"
   ]
  },
  {
   "cell_type": "code",
   "execution_count": 18,
   "metadata": {},
   "outputs": [],
   "source": [
    "sample1 = SampleClass()"
   ]
  },
  {
   "cell_type": "code",
   "execution_count": 32,
   "metadata": {},
   "outputs": [
    {
     "name": "stdout",
     "output_type": "stream",
     "text": [
      "0\n",
      "taro\n"
     ]
    }
   ],
   "source": [
    "print(sample1.number)\n",
    "print(sample1.name)"
   ]
  },
  {
   "cell_type": "code",
   "execution_count": null,
   "metadata": {},
   "outputs": [],
   "source": [
    "class SampleClass:\n",
    "    def __init__(self):\n",
    "        self.number = 0    #ここの部分\n",
    "        self.name = 'taro' #ここの部分"
   ]
  },
  {
   "cell_type": "markdown",
   "metadata": {},
   "source": [
    "では、初期化の内容を変えてみると、"
   ]
  },
  {
   "cell_type": "code",
   "execution_count": 29,
   "metadata": {},
   "outputs": [],
   "source": [
    "class SampleClass:\n",
    "    def __init__(self):\n",
    "        self.number = 1    #ここの部分\n",
    "        self.name = 'jiro' #ここの部分"
   ]
  },
  {
   "cell_type": "code",
   "execution_count": 30,
   "metadata": {},
   "outputs": [],
   "source": [
    "sample2 = SampleClass() #sample2になっていることに注意してください。さっきとは違う変数です。"
   ]
  },
  {
   "cell_type": "code",
   "execution_count": 31,
   "metadata": {},
   "outputs": [
    {
     "name": "stdout",
     "output_type": "stream",
     "text": [
      "1\n",
      "jiro\n"
     ]
    }
   ],
   "source": [
    "print(sample2.number)\n",
    "print(sample2.name)"
   ]
  },
  {
   "cell_type": "markdown",
   "metadata": {},
   "source": [
    "中身が変わります。"
   ]
  },
  {
   "cell_type": "markdown",
   "metadata": {},
   "source": [
    "## では、コンストラクタを２つにします。"
   ]
  },
  {
   "cell_type": "code",
   "execution_count": 36,
   "metadata": {},
   "outputs": [],
   "source": [
    "class SampleClass:\n",
    "    def __init__(self):\n",
    "        self.number = 0    \n",
    "        self.name = 'taro' \n",
    "        \n",
    "    def __init__(self, a, b): #(self, a, b)となってます。\n",
    "        self.number = a       #ここの部分\n",
    "        self.name = b         #ここの部分"
   ]
  },
  {
   "cell_type": "code",
   "execution_count": 40,
   "metadata": {},
   "outputs": [
    {
     "ename": "TypeError",
     "evalue": "__init__() missing 2 required positional arguments: 'a' and 'b'",
     "output_type": "error",
     "traceback": [
      "\u001b[1;31m---------------------------------------------------------------------------\u001b[0m",
      "\u001b[1;31mTypeError\u001b[0m                                 Traceback (most recent call last)",
      "\u001b[1;32m<ipython-input-40-d913c7a4b0ad>\u001b[0m in \u001b[0;36m<module>\u001b[1;34m\u001b[0m\n\u001b[1;32m----> 1\u001b[1;33m \u001b[0msample1\u001b[0m \u001b[1;33m=\u001b[0m \u001b[0mSampleClass\u001b[0m\u001b[1;33m(\u001b[0m\u001b[1;33m)\u001b[0m\u001b[1;33m\u001b[0m\u001b[1;33m\u001b[0m\u001b[0m\n\u001b[0m\u001b[0;32m      2\u001b[0m \u001b[0mprint\u001b[0m\u001b[1;33m(\u001b[0m\u001b[0msample1\u001b[0m\u001b[1;33m.\u001b[0m\u001b[0mnumber\u001b[0m\u001b[1;33m)\u001b[0m\u001b[1;33m\u001b[0m\u001b[1;33m\u001b[0m\u001b[0m\n\u001b[0;32m      3\u001b[0m \u001b[0mprint\u001b[0m\u001b[1;33m(\u001b[0m\u001b[0msample1\u001b[0m\u001b[1;33m.\u001b[0m\u001b[0mname\u001b[0m\u001b[1;33m)\u001b[0m\u001b[1;33m\u001b[0m\u001b[1;33m\u001b[0m\u001b[0m\n",
      "\u001b[1;31mTypeError\u001b[0m: __init__() missing 2 required positional arguments: 'a' and 'b'"
     ]
    }
   ],
   "source": [
    "sample1 = SampleClass()\n",
    "print(sample1.number)\n",
    "print(sample1.name)"
   ]
  },
  {
   "cell_type": "code",
   "execution_count": 41,
   "metadata": {},
   "outputs": [
    {
     "name": "stdout",
     "output_type": "stream",
     "text": [
      "1\n",
      "jiro\n"
     ]
    }
   ],
   "source": [
    "sample2 = SampleClass(1, 'jiro')\n",
    "print(sample2.number)\n",
    "print(sample2.name)"
   ]
  },
  {
   "cell_type": "markdown",
   "metadata": {},
   "source": [
    "これではできないので、基本的には使わなくて良いです。"
   ]
  },
  {
   "cell_type": "code",
   "execution_count": null,
   "metadata": {},
   "outputs": [],
   "source": []
  },
  {
   "cell_type": "markdown",
   "metadata": {},
   "source": [
    "## コンストラクタ番外"
   ]
  },
  {
   "cell_type": "code",
   "execution_count": 1,
   "metadata": {},
   "outputs": [],
   "source": [
    "class SampleClass:\n",
    "    def __init__(self, a=0, b=\"taro\"): #ここでデフォルト値を設定しています。\n",
    "        self.number = a       \n",
    "        self.name = b         "
   ]
  },
  {
   "cell_type": "code",
   "execution_count": 2,
   "metadata": {},
   "outputs": [
    {
     "name": "stdout",
     "output_type": "stream",
     "text": [
      "0\n",
      "taro\n"
     ]
    }
   ],
   "source": [
    "sample1 = SampleClass() # ここでデフォルト値を設定しておけば、引数をあてなくても機能します。\n",
    "print(sample1.number)\n",
    "print(sample1.name)"
   ]
  },
  {
   "cell_type": "code",
   "execution_count": 3,
   "metadata": {},
   "outputs": [
    {
     "name": "stdout",
     "output_type": "stream",
     "text": [
      "1\n",
      "jiro\n"
     ]
    }
   ],
   "source": [
    "sample2 = SampleClass(1, 'jiro') # 引数をあてるとその値が優先されます。\n",
    "print(sample2.number)\n",
    "print(sample2.name)"
   ]
  },
  {
   "cell_type": "code",
   "execution_count": null,
   "metadata": {},
   "outputs": [],
   "source": []
  },
  {
   "cell_type": "markdown",
   "metadata": {},
   "source": [
    "### では、適当にクラス名や初期化設定を入れて、クラス定義してみてください。"
   ]
  },
  {
   "cell_type": "markdown",
   "metadata": {},
   "source": [
    "以下、練習"
   ]
  },
  {
   "cell_type": "markdown",
   "metadata": {},
   "source": [
    "???の部分を色々変えて試してください"
   ]
  },
  {
   "cell_type": "code",
   "execution_count": null,
   "metadata": {},
   "outputs": [],
   "source": [
    "class ???:\n",
    "    def __init__(self):\n",
    "        self.??? = ???\n",
    "        self.??? = ???"
   ]
  },
  {
   "cell_type": "code",
   "execution_count": null,
   "metadata": {},
   "outputs": [],
   "source": [
    "??? = ???()\n",
    "print(???.???)\n",
    "print(???.???)"
   ]
  },
  {
   "cell_type": "code",
   "execution_count": null,
   "metadata": {},
   "outputs": [],
   "source": []
  },
  {
   "cell_type": "code",
   "execution_count": null,
   "metadata": {},
   "outputs": [],
   "source": [
    "class ???:        \n",
    "    def __init__(self, ???, ???):\n",
    "        self.??? = ???\n",
    "        self.??? = ???"
   ]
  },
  {
   "cell_type": "code",
   "execution_count": null,
   "metadata": {},
   "outputs": [],
   "source": [
    "??? = ???(???, ???)\n",
    "print(???.???)\n",
    "print(???.???)"
   ]
  },
  {
   "cell_type": "code",
   "execution_count": null,
   "metadata": {},
   "outputs": [],
   "source": []
  },
  {
   "cell_type": "code",
   "execution_count": null,
   "metadata": {},
   "outputs": [],
   "source": []
  },
  {
   "cell_type": "code",
   "execution_count": null,
   "metadata": {},
   "outputs": [],
   "source": []
  }
 ],
 "metadata": {
  "kernelspec": {
   "display_name": "Python 3",
   "language": "python",
   "name": "python3"
  },
  "language_info": {
   "codemirror_mode": {
    "name": "ipython",
    "version": 3
   },
   "file_extension": ".py",
   "mimetype": "text/x-python",
   "name": "python",
   "nbconvert_exporter": "python",
   "pygments_lexer": "ipython3",
   "version": "3.8.10"
  }
 },
 "nbformat": 4,
 "nbformat_minor": 4
}

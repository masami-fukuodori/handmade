{
 "cells": [
  {
   "cell_type": "code",
   "execution_count": 1,
   "metadata": {},
   "outputs": [],
   "source": [
    "#電話番号を抽出する関数\n",
    "def extract_tel_number(text):\n",
    "    import re\n",
    "\n",
    "    #全角を半角に変換する関数\n",
    "    def zen_to_han(x):\n",
    "        # 変換\n",
    "        x = x.translate(str.maketrans({chr(0xFF01 + i): chr(0x21 + i) for i in range(94)}))\n",
    "        return x\n",
    "\n",
    "    pattern = \"\\d{2,4}-\\d{2,4}-\\d{3,4}\"\n",
    "    \n",
    "    #patternと一致する文字列を抽出\n",
    "    tel_list = re.findall(pattern, zen_to_han(text))\n",
    "\n",
    "    return tel_list\n"
   ]
  },
  {
   "cell_type": "code",
   "execution_count": 2,
   "metadata": {},
   "outputs": [
    {
     "name": "stdout",
     "output_type": "stream",
     "text": [
      "お電話は、０９０-0000-0000まで\n",
      "['090-0000-0000']\n",
      "\n",
      "お電話は、０９０-0000-0000または、０３－０００－００００まで\n",
      "['090-0000-0000', '03-000-0000']\n"
     ]
    }
   ],
   "source": [
    "text1 = \"お電話は、０９０-0000-0000まで\"\n",
    "text2 = \"お電話は、０９０-0000-0000または、０３－０００－００００まで\"\n",
    "\n",
    "print(text1)\n",
    "print(extract_tel_number(text1))\n",
    "print()\n",
    "print(text2)\n",
    "print(extract_tel_number(text2))"
   ]
  }
 ],
 "metadata": {
  "kernelspec": {
   "display_name": "Python 3.10.7 64-bit",
   "language": "python",
   "name": "python3"
  },
  "language_info": {
   "codemirror_mode": {
    "name": "ipython",
    "version": 3
   },
   "file_extension": ".py",
   "mimetype": "text/x-python",
   "name": "python",
   "nbconvert_exporter": "python",
   "pygments_lexer": "ipython3",
   "version": "3.10.7"
  },
  "orig_nbformat": 4,
  "vscode": {
   "interpreter": {
    "hash": "2f563510ee3288120195ee1a12ebae410869420774b9c1b0e9fd0e11dcbd2d78"
   }
  }
 },
 "nbformat": 4,
 "nbformat_minor": 2
}

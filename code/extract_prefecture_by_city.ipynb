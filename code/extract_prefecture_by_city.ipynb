{
 "cells": [
  {
   "cell_type": "code",
   "execution_count": 3,
   "metadata": {},
   "outputs": [],
   "source": [
    "#市町村名から都道府県名を探し出す関数\n",
    "\n",
    "def extract_prefecture_by_city():\n",
    "    import pandas as pd\n",
    "    #KEN_ALL.CSVからpandasでデータを取得\n",
    "    csv_data = pd.read_csv('KEN_ALL.CSV', index_col=None, encoding=\"shift-jis\", header=None)\n",
    "    post_data = csv_data[[2,6,7,8]]\n",
    "    \n",
    "    #市町村名を入力し、都道府県名を特定\n",
    "    city = input()\n",
    "    print(f\"検索市町村名：{city}\")\n",
    "    print()\n",
    "\n",
    "    prefecture_list = []\n",
    "    prefecture_list += list(set(post_data[post_data[7].str.contains(city)][6]))\n",
    "    #市町村名以降の場合も仮に作成　問題：検索が多くなってしまう\n",
    "    #prefecture_list += list(set(post_data[post_data[8].str.contains(city)][6]))　\n",
    "    \n",
    "    #都道府県名を出力\n",
    "    for p in [f\"{i}ですか？\" for i in list(set(prefecture_list))]:\n",
    "        print(p)"
   ]
  },
  {
   "cell_type": "code",
   "execution_count": 5,
   "metadata": {},
   "outputs": [
    {
     "name": "stdout",
     "output_type": "stream",
     "text": [
      "検索市町村名：稚内\n",
      "\n",
      "北海道ですか？\n"
     ]
    }
   ],
   "source": [
    "extract_prefecture_by_city()"
   ]
  },
  {
   "cell_type": "code",
   "execution_count": null,
   "metadata": {},
   "outputs": [],
   "source": []
  }
 ],
 "metadata": {
  "kernelspec": {
   "display_name": "Python 3.10.7 64-bit",
   "language": "python",
   "name": "python3"
  },
  "language_info": {
   "codemirror_mode": {
    "name": "ipython",
    "version": 3
   },
   "file_extension": ".py",
   "mimetype": "text/x-python",
   "name": "python",
   "nbconvert_exporter": "python",
   "pygments_lexer": "ipython3",
   "version": "3.10.7"
  },
  "orig_nbformat": 4,
  "vscode": {
   "interpreter": {
    "hash": "2f563510ee3288120195ee1a12ebae410869420774b9c1b0e9fd0e11dcbd2d78"
   }
  }
 },
 "nbformat": 4,
 "nbformat_minor": 2
}

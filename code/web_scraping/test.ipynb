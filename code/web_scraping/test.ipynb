{
 "cells": [
  {
   "cell_type": "code",
   "execution_count": 1,
   "metadata": {},
   "outputs": [
    {
     "name": "stderr",
     "output_type": "stream",
     "text": [
      "\n",
      "\n",
      "====== WebDriver manager ======\n",
      "Current google-chrome version is 107.0.5304\n",
      "Get LATEST chromedriver version for 107.0.5304 google-chrome\n",
      "Driver [C:\\Users\\m2153\\.wdm\\drivers\\chromedriver\\win32\\107.0.5304.62\\chromedriver.exe] found in cache\n",
      "\n",
      "\n",
      "====== WebDriver manager ======\n",
      "Current google-chrome version is 107.0.5304\n",
      "Get LATEST chromedriver version for 107.0.5304 google-chrome\n",
      "Driver [C:\\Users\\m2153\\.wdm\\drivers\\chromedriver\\win32\\107.0.5304.62\\chromedriver.exe] found in cache\n"
     ]
    }
   ],
   "source": [
    "from web_scraping import WebScraping\n"
   ]
  },
  {
   "cell_type": "markdown",
   "metadata": {},
   "source": [
    "　　インスタンス化"
   ]
  },
  {
   "cell_type": "code",
   "execution_count": null,
   "metadata": {},
   "outputs": [],
   "source": [
    "browser = WebScraping()"
   ]
  },
  {
   "cell_type": "markdown",
   "metadata": {},
   "source": [
    "  URLのページに移動"
   ]
  },
  {
   "cell_type": "code",
   "execution_count": 3,
   "metadata": {},
   "outputs": [],
   "source": [
    "browser.get(\"https://coconala.com/users/1877848\")"
   ]
  },
  {
   "cell_type": "markdown",
   "metadata": {},
   "source": [
    "　　ページ情報を取得"
   ]
  },
  {
   "cell_type": "code",
   "execution_count": 4,
   "metadata": {},
   "outputs": [],
   "source": [
    "browser.read_page()"
   ]
  },
  {
   "cell_type": "markdown",
   "metadata": {},
   "source": [
    "  取得した文字情報を200文字まで表示"
   ]
  },
  {
   "cell_type": "code",
   "execution_count": 6,
   "metadata": {},
   "outputs": [
    {
     "name": "stdout",
     "output_type": "stream",
     "text": [
      "\n",
      "福躍雅実さん(フリーランス)のプロフィール | ココナラ\n",
      "\n",
      "\n",
      "                                 出品者  サービスを探す出品者を探す仕事・相談を探すブログを探す       \n",
      "        ビジネス購入の方はこちら\n",
      "       サポート  \n",
      "        ログイン\n",
      "         \n",
      "        会員登録\n",
      "          \n",
      "      カテゴリから探\n"
     ]
    }
   ],
   "source": [
    "print(browser.soup.text[:200])"
   ]
  },
  {
   "cell_type": "code",
   "execution_count": 7,
   "metadata": {},
   "outputs": [],
   "source": [
    "browser.close()"
   ]
  }
 ],
 "metadata": {
  "kernelspec": {
   "display_name": "Python 3.10.7 64-bit",
   "language": "python",
   "name": "python3"
  },
  "language_info": {
   "codemirror_mode": {
    "name": "ipython",
    "version": 3
   },
   "file_extension": ".py",
   "mimetype": "text/x-python",
   "name": "python",
   "nbconvert_exporter": "python",
   "pygments_lexer": "ipython3",
   "version": "3.10.7"
  },
  "vscode": {
   "interpreter": {
    "hash": "2f563510ee3288120195ee1a12ebae410869420774b9c1b0e9fd0e11dcbd2d78"
   }
  }
 },
 "nbformat": 4,
 "nbformat_minor": 4
}

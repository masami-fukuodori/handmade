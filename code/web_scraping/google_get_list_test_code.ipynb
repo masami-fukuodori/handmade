{
 "cells": [
  {
   "cell_type": "markdown",
   "metadata": {},
   "source": [
    "# お試しコード"
   ]
  },
  {
   "cell_type": "markdown",
   "metadata": {},
   "source": [
    "  WebScrapingクラスをインポート"
   ]
  },
  {
   "cell_type": "code",
   "execution_count": 2,
   "metadata": {},
   "outputs": [],
   "source": [
    "from web_scraping import WebScraping"
   ]
  },
  {
   "cell_type": "markdown",
   "metadata": {},
   "source": [
    "　　インスタンス化"
   ]
  },
  {
   "cell_type": "code",
   "execution_count": 3,
   "metadata": {},
   "outputs": [],
   "source": [
    "ws = WebScraping()"
   ]
  },
  {
   "cell_type": "markdown",
   "metadata": {},
   "source": [
    "　　起動したブラウザで検索"
   ]
  },
  {
   "cell_type": "markdown",
   "metadata": {},
   "source": [
    "　　google_get_listメソッドで検索結果を収集　リストに格納"
   ]
  },
  {
   "cell_type": "code",
   "execution_count": 5,
   "metadata": {},
   "outputs": [],
   "source": [
    "google_list = ws.google_get_list(page_count=2)"
   ]
  },
  {
   "cell_type": "markdown",
   "metadata": {},
   "source": [
    "　　リストの中身は辞書型になっている"
   ]
  },
  {
   "cell_type": "code",
   "execution_count": 6,
   "metadata": {},
   "outputs": [
    {
     "data": {
      "text/plain": [
       "[{'title': 'python.jp: プログラミング言語 Python 総合情報サイト',\n",
       "  'url': 'https://www.python.jp/',\n",
       "  'discription': 'プログラミング言語 Pythonの紹介・ダウンロードとインストール・Python入門講座など.'},\n",
       " {'title': 'Welcome to Python.org',\n",
       "  'url': 'https://www.python.org/',\n",
       "  'discription': 'The official home of the Python Programming Language.'},\n",
       " {'title': 'Python - Wikipedia',\n",
       "  'url': 'https://ja.wikipedia.org/wiki/Python',\n",
       "  'discription': 'Python（パイソン）はインタープリタ型の高水準汎用プログラミング言語である。グイド・ヴァン・ロッサムにより創り出され、1991年に最初にリリースされたPythonの設計\\xa0...'},\n",
       " {'title': 'Pythonとは？特徴やできること・人気の理由を初心者向けに解説',\n",
       "  'url': 'https://www.sejuku.net/blog/7720',\n",
       "  'discription': '「Python（パイソン）」とは一体どんなプログラミング言語でしょうか？実際にPythonについて調べてみると、プログラミング経験者向けの記事やWikipediaには難しい単語\\xa0...'},\n",
       " {'title': 'Pythonプログラミング入門',\n",
       "  'url': 'https://utokyo-ipp.github.io/',\n",
       "  'discription': 'Pythonプログラミング入門¶. △で始まる項目は授業では扱いません。興味にしたがって学習してください。 ノートブック全体に△が付いているものもありますので注意して\\xa0...'},\n",
       " {'title': 'Python - Qiita',\n",
       "  'url': 'https://qiita.com/tags/python',\n",
       "  'discription': 'PythonはGuido van Rossumが設計した動的型付け言語です。Pythonは多くのデベロッパーによってライブラリの開発が行われており、Webページから科学研究まで幅広く利用\\xa0...'},\n",
       " {'title': 'Python-izm | Python の入門から応用までをサポートする学習 ...',\n",
       "  'url': 'https://www.python-izm.com/',\n",
       "  'discription': 'わかりやすさを重視したPythonの学習サイトです。サンプルコードと実行結果を掲載し、基本構文からWebアプリ、GUIアプリなどもサポートしています。'},\n",
       " {'title': '新・Python入門編 | プログラミング学習サイト【paiza ...',\n",
       "  'url': 'https://paiza.jp/works/python/new-primer',\n",
       "  'discription': '新・Python入門編のレッスン一覧です。各レッスンは、それぞれ数本の3分程度の動画（チャプター）とそれに対応した演習問題で構成されています。'},\n",
       " {'title': 'Pythonを超えて熱烈に指示される開発言語は？ 人気フレーム ...',\n",
       "  'url': 'https://atmarkit.itmedia.co.jp/ait/articles/2211/16/news066.html',\n",
       "  'discription': '3 日前 — SlashDataは開発者動向レポートの最新版「State of the Developer Nation 23rd Edition」を公開した。ブロックチェーン開発、学生のキャリア目標、\\xa0...'},\n",
       " {'title': 'ゼロからのPython入門講座 - python.jp',\n",
       "  'url': 'https://www.python.jp/train/index.html',\n",
       "  'discription': 'このPython入門講座では、プログラミング経験の未経験者・初心者を対象に、ブラウザからPythonを実行できるサービスGoogle Colaboratory(Colab)を使って、Pythonの基礎\\xa0...'},\n",
       " {'title': 'Python 言語入門',\n",
       "  'url': 'https://www.isc.meiji.ac.jp/~be00085/Python3/index.html',\n",
       "  'discription': 'コマンドプロンプト(Windows) またはターミナル(Mac OS, Linux) を起動して，以下のように打ち込んでみよう． Windowsの場合Z:\\\\> python Python 3.9.12 (main, Apr 4 2022,\\xa0...'},\n",
       " {'title': 'Python | プログラミングの入門なら基礎から学べるProgate ...',\n",
       "  'url': 'https://prog-8.com/courses/python',\n",
       "  'discription': '「Python」はWebアプリケーション開発や機械学習、統計処理など、様々な分野で使われています。 このレッスンではPythonの基本的な使い方について学びます。'},\n",
       " {'title': 'Python（パイソン）とは？｜注目のプログラミング言語を紹介',\n",
       "  'url': 'https://coeteco.jp/articles/10661',\n",
       "  'discription': '7 日前 — Pythonは、日本だけではなく海外でも人気のある言語です。 コードがシンプルで学びやすいためプログラミング初心者にもオススメで、近年では子どもの\\xa0...'},\n",
       " {'title': '「カタコト」プログラミングのすすめ、Pythonを学ぶ意義は ...',\n",
       "  'url': 'https://xtech.nikkei.com/atcl/nxt/column/18/00682/111500101/',\n",
       "  'discription': '「カタコト」プログラミングのすすめ、Pythonを学ぶ意義は大きい. 大森 敏行. 日経クロステック. 2022.11.18. 全3145文字. 日本人が英語を話せないことはよく問題に\\xa0...'},\n",
       " {'title': '初心者向けにPythonのインストールから環境構築、動作確認 ...',\n",
       "  'url': 'https://camp.trainocate.co.jp/magazine/python-install/',\n",
       "  'discription': 'Pythonの実行はIDLEからでも、コマンドプロンプト（Windowsの場合）やターミナル（Macの場合）からでもできます。この記事ではIDLEから実行する場合を取り上げます。 3．'},\n",
       " {'title': \"Python入門 - Let'sプログラミング\",\n",
       "  'url': 'https://www.javadrive.jp/python/',\n",
       "  'discription': 'Pythonインストールと環境設定 · Pythonプログラムの基本事項 · Jupyter Notebookの使い方 · 文字列 · 数値 · 変数の使い方 · 条件分岐 · 繰り返し処理\\xa0...'},\n",
       " {'title': 'Pythonスタートブック [増補改訂版] | 辻 真吾 |本 | 通販 | Amazon',\n",
       "  'url': 'https://www.amazon.co.jp/Python%E3%82%B9%E3%82%BF%E3%83%BC%E3%83%88%E3%83%96%E3%83%83%E3%82%AF-%E5%A2%97%E8%A3%9C%E6%94%B9%E8%A8%82%E7%89%88-%E8%BE%BB-%E7%9C%9F%E5%90%BE/dp/4774196436',\n",
       "  'discription': '好評の“いちばんやさしいPythonの本\"がリニューアル! オブジェクト指向の考え方もしっかり理解できます! プログラミングの知識がゼロの方でも理解できるイラストや\\xa0...'},\n",
       " {'title': 'Python試験・資格、データ分析試験・資格を運営する一般社団 ...',\n",
       "  'url': 'https://www.pythonic-exam.com/',\n",
       "  'discription': 'Pythonの学習の目安と習熟度チェックに試験・資格はいかがですか？'}]"
      ]
     },
     "execution_count": 6,
     "metadata": {},
     "output_type": "execute_result"
    }
   ],
   "source": [
    "google_list"
   ]
  },
  {
   "cell_type": "code",
   "execution_count": null,
   "metadata": {},
   "outputs": [],
   "source": []
  }
 ],
 "metadata": {
  "kernelspec": {
   "display_name": "Python 3.10.7 64-bit",
   "language": "python",
   "name": "python3"
  },
  "language_info": {
   "codemirror_mode": {
    "name": "ipython",
    "version": 3
   },
   "file_extension": ".py",
   "mimetype": "text/x-python",
   "name": "python",
   "nbconvert_exporter": "python",
   "pygments_lexer": "ipython3",
   "version": "3.10.7"
  },
  "vscode": {
   "interpreter": {
    "hash": "2f563510ee3288120195ee1a12ebae410869420774b9c1b0e9fd0e11dcbd2d78"
   }
  }
 },
 "nbformat": 4,
 "nbformat_minor": 4
}
